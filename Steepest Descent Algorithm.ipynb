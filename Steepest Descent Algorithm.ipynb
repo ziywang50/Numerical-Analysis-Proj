{
 "cells": [
  {
   "cell_type": "code",
   "execution_count": 2,
   "metadata": {},
   "outputs": [],
   "source": [
    "#Find the minimum of f\n",
    "#fx = x**3 + y**2 + 1/z\n",
    "#x**2 + y**2 + z**2 = 1\n",
    "#Use Lagrange Multiplier."
   ]
  },
  {
   "cell_type": "code",
   "execution_count": 3,
   "metadata": {},
   "outputs": [],
   "source": [
    "#Now solve this by steepest descent. \n",
    "# Goal: find a fixed point on a sphere\n",
    "#algorithm: x = [1, 0, 0]\n",
    "#x_n+1 = x_n - gamma * gradient(f)\n",
    "#x_n+1 = x_n+1 / norm (x_n+1)"
   ]
  },
  {
   "cell_type": "code",
   "execution_count": 5,
   "metadata": {
    "scrolled": true
   },
   "outputs": [
    {
     "name": "stdout",
     "output_type": "stream",
     "text": [
      "[-0.45775299 -0.57981243  0.67400277] 3.1150125898798713\n",
      "[-0.59455135 -0.53952761 -0.59616999] 3.1070703301901736\n"
     ]
    }
   ],
   "source": [
    "# choose 100000 random starting point \n",
    "#x**2 + y**2 + z**2 = 1\n",
    "import numpy as np\n",
    "import math\n",
    "def sample_spherical(npoints, ndim=3):\n",
    "    vec = np.random.randn(ndim, npoints)\n",
    "    vec = vec / np.linalg.norm(vec, axis=0)\n",
    "    return vec\n",
    "def g(x):\n",
    "    sum_value = 0\n",
    "    for i in range(0, len(x)):\n",
    "        sum_value = sum_value + x[i]**2 + math.cos(x[i])**2\n",
    "    return sum_value\n",
    "def gradg(x):\n",
    "    sum_value = 0\n",
    "    for i in range(0, len(x)):\n",
    "        sum_value = sum_value + 2*x[i] - 2*math.sin(x[i])*math.cos(x[i])\n",
    "    return sum_value\n",
    "def steepest_descent(x, tol, N):\n",
    "    #compute the value of gamma\n",
    "    k = 1\n",
    "    g_1 = np.zeros(len(x))\n",
    "    y = np.zeros(len(x))\n",
    "    while k <= N:\n",
    "        g_1 = g(x)\n",
    "        z = gradg(x)\n",
    "        z_0 = np.linalg.norm(gradg(x))\n",
    "        if z_0 == 0:\n",
    "            print(\"zero gradient\")\n",
    "            y = x/np.linalg.norm(x)\n",
    "            return y, g(y)\n",
    "        z = z/z_0\n",
    "        alpha_1 = 0\n",
    "        alpha_3 = 1\n",
    "        g_3 = g(x-alpha_3*z)\n",
    "        while g_3 >= g_1:\n",
    "            alpha_3 = alpha_3 / 2\n",
    "            g_3 = g(x-alpha_3*z)\n",
    "            if alpha_3 < tol/2:\n",
    "                x = x / np.linalg.norm(x)\n",
    "                return x, g(x)\n",
    "        alpha_2 = alpha_3/2\n",
    "        g_2 = g(x-alpha_2*z)\n",
    "        #Use Newton's forward divided differences formula to find the quadratic interpolation\n",
    "        h_1 = (g_2 - g_1)/alpha_2\n",
    "        h_2 = (g_3 - g_2)/(alpha_3 - alpha_2)\n",
    "        h_3 = (h_2 - h_1)/alpha_3\n",
    "        alpha_0 = 0.5*(alpha_2 - h_1/h_3)\n",
    "        g_0 = g(x-alpha_0*z)\n",
    "        best_alpha = alpha_0\n",
    "        if g(x-alpha_3*z) < g_0:\n",
    "            best_alpha = alpha_3\n",
    "        x = x - best_alpha*z\n",
    "        x = x/np.linalg.norm(x)\n",
    "        if abs(g(x) - g_1) < tol:\n",
    "            return x, g(x)\n",
    "    print (\"maximum iterations exceeded\")\n",
    "    return x, g_1\n",
    "\n",
    "#Now evaluate this function\n",
    "tol = 0.005\n",
    "N = 100000\n",
    "x_table = sample_spherical(N)\n",
    "x = x_table[:, 0]\n",
    "x, g_x = steepest_descent(x, tol, N)\n",
    "print(x, g_x)\n",
    "x_min = x\n",
    "g_min = g_x\n",
    "for i in range(1, N):\n",
    "    x = x_table[:, i]\n",
    "    x, g_x = steepest_descent(x, tol, N)\n",
    "    if g_x < g_min:\n",
    "        g_min = g_x\n",
    "        x_min = x\n",
    "print(x_min, g_min)"
   ]
  },
  {
   "cell_type": "code",
   "execution_count": null,
   "metadata": {},
   "outputs": [],
   "source": []
  }
 ],
 "metadata": {
  "kernelspec": {
   "display_name": "Python 3",
   "language": "python",
   "name": "python3"
  },
  "language_info": {
   "codemirror_mode": {
    "name": "ipython",
    "version": 3
   },
   "file_extension": ".py",
   "mimetype": "text/x-python",
   "name": "python",
   "nbconvert_exporter": "python",
   "pygments_lexer": "ipython3",
   "version": "3.8.3"
  }
 },
 "nbformat": 4,
 "nbformat_minor": 4
}
